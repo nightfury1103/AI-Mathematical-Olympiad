{
 "cells": [
  {
   "cell_type": "code",
   "execution_count": 10,
   "metadata": {},
   "outputs": [],
   "source": [
    "import pandas as pd\n",
    "import numpy as np"
   ]
  },
  {
   "cell_type": "code",
   "execution_count": 34,
   "metadata": {},
   "outputs": [],
   "source": [
    "data = pd.read_csv('external_df.csv')"
   ]
  },
  {
   "cell_type": "code",
   "execution_count": 35,
   "metadata": {},
   "outputs": [],
   "source": [
    "def extract_the_answer(row):\n",
    "    if 'boxed' in row['solution']:\n",
    "        a = row['solution'].split('boxed')[1]\n",
    "        return a.split('.')[0]\n",
    "    \n",
    "    if '####' in row['solution']:\n",
    "        return row['solution'].split('####')[1]\n",
    "\n",
    "    return np.nan"
   ]
  },
  {
   "cell_type": "code",
   "execution_count": 36,
   "metadata": {},
   "outputs": [],
   "source": [
    "data['answer'] = data.apply(extract_the_answer, axis=1)"
   ]
  },
  {
   "cell_type": "code",
   "execution_count": 3,
   "metadata": {},
   "outputs": [
    {
     "name": "stderr",
     "output_type": "stream",
     "text": [
      "Downloading data: 100%|██████████| 419k/419k [00:02<00:00, 187kB/s]\n",
      "Downloading data: 100%|██████████| 2.31M/2.31M [00:09<00:00, 253kB/s]\n",
      "Downloading data files: 100%|██████████| 2/2 [00:11<00:00,  5.68s/it]\n",
      "Extracting data files: 100%|██████████| 2/2 [00:00<00:00, 2172.65it/s]\n",
      "Generating test split: 100%|██████████| 1319/1319 [00:00<00:00, 115864.27 examples/s]\n",
      "Generating train split: 100%|██████████| 7473/7473 [00:00<00:00, 690671.05 examples/s]\n"
     ]
    }
   ],
   "source": [
    "from datasets import load_dataset\n",
    "\n",
    "dataset = load_dataset(\"gsm8k\", 'main')"
   ]
  },
  {
   "cell_type": "code",
   "execution_count": 5,
   "metadata": {},
   "outputs": [],
   "source": [
    "import pandas as pd\n",
    "\n",
    "train = pd.DataFrame(dataset['train'])\n",
    "test = pd.DataFrame(dataset['test'])\n",
    "\n",
    "data = pd.concat([train, test])"
   ]
  },
  {
   "cell_type": "code",
   "execution_count": 14,
   "metadata": {},
   "outputs": [],
   "source": [
    "def extract_the_answer(row):\n",
    "    if 'boxed' in row['answer']:\n",
    "        a = row['answer'].split('boxed')[1]\n",
    "        return a.split('.')[0]\n",
    "    \n",
    "    if '####' in row['answer']:\n",
    "        return row['answer'].split('####')[1]\n",
    "\n",
    "    return np.nan"
   ]
  },
  {
   "cell_type": "code",
   "execution_count": 15,
   "metadata": {},
   "outputs": [],
   "source": [
    "data['result'] = data.apply(extract_the_answer, axis=1)"
   ]
  },
  {
   "cell_type": "code",
   "execution_count": 19,
   "metadata": {},
   "outputs": [],
   "source": [
    "data.to_csv('gsm8k.csv', index=False)"
   ]
  }
 ],
 "metadata": {
  "kernelspec": {
   "display_name": "huy",
   "language": "python",
   "name": "python3"
  },
  "language_info": {
   "codemirror_mode": {
    "name": "ipython",
    "version": 3
   },
   "file_extension": ".py",
   "mimetype": "text/x-python",
   "name": "python",
   "nbconvert_exporter": "python",
   "pygments_lexer": "ipython3",
   "version": "3.10.6"
  }
 },
 "nbformat": 4,
 "nbformat_minor": 2
}
